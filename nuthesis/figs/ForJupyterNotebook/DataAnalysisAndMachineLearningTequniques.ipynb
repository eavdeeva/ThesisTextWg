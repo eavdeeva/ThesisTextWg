{
 "cells": [
  {
   "cell_type": "markdown",
   "metadata": {},
   "source": [
    "# Data Analysis and Machine Learning Techniques used in the LHC analysis\n",
    "# Cross Section Measurement of $W\\gamma$ at 8 TeV\n",
    "\n",
    "## Machine Learning Algorithms\n",
    "\n",
    "(1) Decision tree (event selection)\n",
    "\n",
    "(2) Maximum likelihood fits\n",
    "\n",
    "(2.1) Template fits\n",
    "\n",
    "(2.2) Meg fits\n",
    "\n",
    "(4) Unfolding using Bayes theorem\n",
    "\n",
    "## Other Data Analysis Techniques\n",
    "\n",
    "(1) Data Cleaning\n",
    "\n",
    "(2) Feature Engineering\n",
    "\n",
    "(3) Monte Carlo Simulation \n",
    "\n",
    "(3.1). Randomize templates to estimate the uncertainty due to limited statistics of data used to prepare templates\n",
    "\n",
    "(3.2). Randomize yields for detector resolution unfolding to estimate uncertainty due to limited statistics of the signal MC"
   ]
  },
  {
   "cell_type": "code",
   "execution_count": null,
   "metadata": {
    "collapsed": true
   },
   "outputs": [],
   "source": []
  }
 ],
 "metadata": {
  "kernelspec": {
   "display_name": "Python 3",
   "language": "python",
   "name": "python3"
  },
  "language_info": {
   "codemirror_mode": {
    "name": "ipython",
    "version": 3
   },
   "file_extension": ".py",
   "mimetype": "text/x-python",
   "name": "python",
   "nbconvert_exporter": "python",
   "pygments_lexer": "ipython3",
   "version": "3.6.1"
  }
 },
 "nbformat": 4,
 "nbformat_minor": 2
}
